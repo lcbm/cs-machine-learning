{
 "cells": [
  {
   "cell_type": "markdown",
   "metadata": {},
   "source": [
    "PCA e LDA: MNIST\n",
    "\n",
    "1. Carregue uma das bases abaixo, diretamente do `sklearn`\n",
    "   - MNIST (caracteres manuscritos)\n",
    "     - `from sklearn.datasets import fetch_openml`\n",
    "     - `X, y = fetch_openml('mnist_784', version=1, return_X_y=True)`\n",
    "2. [PCA (_Principal Component Analysis_)](https://www.youtube.com/watch?v=FgakZw6K1QQ&feature=youtu.be)\n",
    "   - Aplique PCA avaliando o número de componentes necessários\n",
    "   - Visualize as imagens associadas com os primeiros componentes: `pca.components_[i].reshape()`\n",
    "   - Exiba a variância cumulativa\n",
    "   - Compare as imagens de entrada com as imagens reconstruídas: `pca.transform` e `pca.inverse_transform`\n",
    "3. [LDA (_Linear Discriminant Analysis_)](https://www.youtube.com/watch?v=azXCzI57Yfc&feature=youtu.be)\n",
    "   - Aplique LDA nos dados originais\n",
    "   - Exiba a projeção dos dados nos Discriminantes Lineares\n",
    "   - Exiba a taxa de variância acumulada\n",
    "4. Classificador\n",
    "   - Aplique um classificador de sua escolha nas features obtidas por LDA e PCA\n",
    "   - Compare os dois métodos e resultados"
   ]
  },
  {
   "cell_type": "markdown",
   "metadata": {},
   "source": [
    "### 1. Carregue a base LFW"
   ]
  },
  {
   "cell_type": "code",
   "execution_count": 1,
   "metadata": {},
   "outputs": [],
   "source": []
  },
  {
   "cell_type": "markdown",
   "metadata": {},
   "source": [
    "### 2. PCA"
   ]
  },
  {
   "cell_type": "markdown",
   "metadata": {},
   "source": [
    "**Aplique PCA avaliando o número de componentes necessários**"
   ]
  },
  {
   "cell_type": "code",
   "execution_count": null,
   "metadata": {},
   "outputs": [],
   "source": []
  },
  {
   "cell_type": "markdown",
   "metadata": {},
   "source": [
    "**Visualize as imagens associadas com os primeiros componentes**"
   ]
  },
  {
   "cell_type": "code",
   "execution_count": null,
   "metadata": {},
   "outputs": [],
   "source": []
  },
  {
   "cell_type": "markdown",
   "metadata": {},
   "source": [
    "**Exiba a variância cumulativa**"
   ]
  },
  {
   "cell_type": "code",
   "execution_count": null,
   "metadata": {},
   "outputs": [],
   "source": []
  },
  {
   "cell_type": "markdown",
   "metadata": {},
   "source": [
    "**Compare as imagens de entrada com as imagens reconstruídas**"
   ]
  },
  {
   "cell_type": "code",
   "execution_count": null,
   "metadata": {},
   "outputs": [],
   "source": []
  },
  {
   "cell_type": "markdown",
   "metadata": {},
   "source": [
    "### 3. LDA"
   ]
  },
  {
   "cell_type": "markdown",
   "metadata": {},
   "source": [
    "**Aplique LDA nos dados originais**"
   ]
  },
  {
   "cell_type": "code",
   "execution_count": null,
   "metadata": {},
   "outputs": [],
   "source": []
  },
  {
   "cell_type": "markdown",
   "metadata": {},
   "source": [
    "**Exiba a projeção dos dados nos Discriminantes Lineares**"
   ]
  },
  {
   "cell_type": "code",
   "execution_count": null,
   "metadata": {},
   "outputs": [],
   "source": []
  },
  {
   "cell_type": "markdown",
   "metadata": {},
   "source": [
    "**Exiba a taxa de variância acumulada**"
   ]
  },
  {
   "cell_type": "code",
   "execution_count": null,
   "metadata": {},
   "outputs": [],
   "source": []
  },
  {
   "cell_type": "markdown",
   "metadata": {},
   "source": [
    "### 4. Classificador"
   ]
  },
  {
   "cell_type": "markdown",
   "metadata": {},
   "source": [
    "**Aplique um classificador de sua escolha nas features obtidas por `LDA` e `PCA`**"
   ]
  },
  {
   "cell_type": "code",
   "execution_count": null,
   "metadata": {},
   "outputs": [],
   "source": []
  },
  {
   "cell_type": "markdown",
   "metadata": {},
   "source": [
    "**Compare os dois métodos e resultados**"
   ]
  },
  {
   "cell_type": "code",
   "execution_count": null,
   "metadata": {},
   "outputs": [],
   "source": []
  }
 ],
 "metadata": {
  "kernelspec": {
   "display_name": "Python 3",
   "language": "python",
   "name": "python3"
  },
  "language_info": {
   "codemirror_mode": {
    "name": "ipython",
    "version": 3
   },
   "file_extension": ".py",
   "mimetype": "text/x-python",
   "name": "python",
   "nbconvert_exporter": "python",
   "pygments_lexer": "ipython3",
   "version": "3.7.6"
  }
 },
 "nbformat": 4,
 "nbformat_minor": 4
}